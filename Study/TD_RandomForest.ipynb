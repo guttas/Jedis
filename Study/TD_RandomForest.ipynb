{
 "cells": [
  {
   "cell_type": "code",
   "execution_count": 36,
   "metadata": {
    "collapsed": true
   },
   "outputs": [],
   "source": [
    "from sklearn.ensemble import RandomForestClassifier\n",
    "from sklearn.utils import shuffle as shfl\n",
    "import numpy as np\n",
    "import pandas as pd\n"
   ]
  },
  {
   "cell_type": "code",
   "execution_count": 44,
   "metadata": {
    "collapsed": false
   },
   "outputs": [],
   "source": [
    "#import data\n",
    "letters = pd.read_csv(\"D:\\MachineLearning\\dataset\\letterdata.csv\")\n",
    "\n",
    "#shuffle framedata\n",
    "letters=letters.sample(frac=1)\n",
    "#also could use sklearn.utils.shuffle\n",
    "#letters = shfl(letters)\n",
    "#print(letters)\n",
    "\n",
    "letters_train = letters.iloc[0:15000,:]\n",
    "letters_test = letters.iloc[15000:,:]\n",
    "\n",
    "train_label=letters_train['letter']\n",
    "letters_train=letters_train.iloc[:,1:]\n",
    "test_label=letters_test['letter']\n",
    "letters_test=letters_test.iloc[:,1:]"
   ]
  },
  {
   "cell_type": "code",
   "execution_count": 45,
   "metadata": {
    "collapsed": false
   },
   "outputs": [
    {
     "name": "stdout",
     "output_type": "stream",
     "text": [
      "oob数据准确率 0.955533333333\n",
      "验证数据准确率 0.957\n"
     ]
    }
   ],
   "source": [
    "clf=RandomForestClassifier(n_estimators =500,max_features=1,oob_score=True)\n",
    "clf.fit(letters_train, train_label)\n",
    "\n",
    "print('oob数据准确率',clf.oob_score_)\n",
    "\n",
    "#验证数据精确度\n",
    "print('验证数据准确率',clf.score(letters_test,test_label))"
   ]
  },
  {
   "cell_type": "code",
   "execution_count": 46,
   "metadata": {
    "collapsed": false
   },
   "outputs": [
    {
     "data": {
      "text/plain": [
       "array(['U', 'F', 'K', ..., 'M', 'Q', 'W'], dtype=object)"
      ]
     },
     "execution_count": 46,
     "metadata": {},
     "output_type": "execute_result"
    }
   ],
   "source": [
    "clf.predict(letters_test)"
   ]
  }
 ],
 "metadata": {
  "anaconda-cloud": {},
  "kernelspec": {
   "display_name": "Python [conda root]",
   "language": "python",
   "name": "conda-root-py"
  },
  "language_info": {
   "codemirror_mode": {
    "name": "ipython",
    "version": 3
   },
   "file_extension": ".py",
   "mimetype": "text/x-python",
   "name": "python",
   "nbconvert_exporter": "python",
   "pygments_lexer": "ipython3",
   "version": "3.5.2"
  }
 },
 "nbformat": 4,
 "nbformat_minor": 1
}
